{
 "cells": [
  {
   "cell_type": "code",
   "execution_count": 1,
   "id": "f358422a",
   "metadata": {},
   "outputs": [
    {
     "name": "stdout",
     "output_type": "stream",
     "text": [
      "my name is KHAN\n"
     ]
    }
   ],
   "source": [
    "z = []\n",
    "a = \"my name is khan\"\n",
    "b = \"my country name is india\"\n",
    "\n",
    "c = a.split()\n",
    "d = b.split()\n",
    "\n",
    "for i in c:\n",
    "    if i in d:\n",
    "        z.append(i)\n",
    "    else:\n",
    "         c[c.index(i)] = i.upper()\n",
    "            \n",
    "print(' '.join(c)) "
   ]
  },
  {
   "cell_type": "code",
   "execution_count": 2,
   "id": "e67aa21d",
   "metadata": {},
   "outputs": [
    {
     "name": "stdout",
     "output_type": "stream",
     "text": [
      "my name is KHAN\n"
     ]
    }
   ],
   "source": [
    "f =' '.join([i if i in d else c[c.index(i)].upper() for i in c])\n",
    "\n",
    "print(f)"
   ]
  },
  {
   "cell_type": "code",
   "execution_count": 3,
   "id": "edb5f093",
   "metadata": {},
   "outputs": [
    {
     "name": "stdout",
     "output_type": "stream",
     "text": [
      "my COUNTRY name is INDIA\n"
     ]
    }
   ],
   "source": [
    "x = []\n",
    "a = \"my name is khan\"\n",
    "b = \"my country name is india\"\n",
    "\n",
    "c = a.split()\n",
    "d = b.split()\n",
    "\n",
    "for i in d:\n",
    "    if i in c:\n",
    "        x.append(i)\n",
    "    else:\n",
    "        d[d.index(i)] = i.upper()\n",
    "        \n",
    "print(' '.join(d)) "
   ]
  },
  {
   "cell_type": "code",
   "execution_count": 4,
   "id": "d25852dd",
   "metadata": {},
   "outputs": [
    {
     "name": "stdout",
     "output_type": "stream",
     "text": [
      "my COUNTRY name is INDIA\n"
     ]
    }
   ],
   "source": [
    "g =' '.join([ i if i in c else d[d.index(i)].upper() for i in d])\n",
    "\n",
    "print(g)"
   ]
  },
  {
   "cell_type": "code",
   "execution_count": 5,
   "id": "b72ee009",
   "metadata": {},
   "outputs": [
    {
     "name": "stdout",
     "output_type": "stream",
     "text": [
      "['MONday', 'THURSday', 'FRIday', 'SATURday', 'SUNday']\n"
     ]
    }
   ],
   "source": [
    "newlist = []\n",
    "week = [\"monday\", \"tuesday\", \"wednesday\", \"thursday\", \"friday\", \"saturday\", \"sunday\"]\n",
    "\n",
    "for i in week: \n",
    "    if len(i) % 2 == 0:\n",
    "            newlist.append(i[0:-3].upper() + i[-3:].lower())\n",
    "                                                    \n",
    "print(newlist)"
   ]
  },
  {
   "cell_type": "code",
   "execution_count": null,
   "id": "fd9ec8d5",
   "metadata": {},
   "outputs": [],
   "source": [
    "week = [\"monday\", \"tuesday\", \"wednesday\", \"thursday\", \"friday\", \"saturday\", \"sunday\"]\n",
    "\n",
    "newlist = list(map(lambda x : x[0:3].upper() + x[-3:].lower(), filter(lambda x : len(x) % 2 == 0, week)))\n",
    "\n",
    "print(newlist)"
   ]
  },
  {
   "cell_type": "code",
   "execution_count": 7,
   "id": "4c14e436",
   "metadata": {},
   "outputs": [
    {
     "name": "stdout",
     "output_type": "stream",
     "text": [
      "{44, 39}\n"
     ]
    }
   ],
   "source": [
    "value = [4, 5, 12, 39, 12, 44, 44, 9, 39, 121, 4, 12]\n",
    "z = list(filter(lambda x : value.count(x) == 2 and len(str(x)) == 2, value))\n",
    "\n",
    "print(set(z))"
   ]
  },
  {
   "cell_type": "code",
   "execution_count": 8,
   "id": "fff73af4",
   "metadata": {},
   "outputs": [
    {
     "name": "stdout",
     "output_type": "stream",
     "text": [
      "{40, 390, 440}\n"
     ]
    }
   ],
   "source": [
    "value = [4, 5, 12, 39, 12, 44, 44, 9, 39, 121, 4, 12]\n",
    "\n",
    "a = list(map(lambda x : x * 10, filter(lambda x : value.count(x) % 2 == 0, value)))\n",
    "\n",
    "print(set(a)) "
   ]
  },
  {
   "cell_type": "code",
   "execution_count": 9,
   "id": "0f7019a5",
   "metadata": {},
   "outputs": [
    {
     "name": "stdout",
     "output_type": "stream",
     "text": [
      "* * * * *  \n",
      "* * * *  \n",
      "* * *  \n",
      "* *  \n",
      "*  \n"
     ]
    }
   ],
   "source": [
    "x = 5\n",
    "for i in range(x, 0, -1):\n",
    "    for j in range(i):\n",
    "        print('*', end=' ')\n",
    "        \n",
    "    print(' ')        "
   ]
  },
  {
   "cell_type": "code",
   "execution_count": 10,
   "id": "e9f7ca8a",
   "metadata": {},
   "outputs": [
    {
     "name": "stdout",
     "output_type": "stream",
     "text": [
      "4\n",
      "AuKellylt\n"
     ]
    }
   ],
   "source": [
    "s1 = \"Ault\"\n",
    "s2 = \"Kelly\" \n",
    "\n",
    "print(len(s1))\n",
    "\n",
    "x = s1[:2] + s2 + s1[2:]\n",
    "\n",
    "print(x)"
   ]
  },
  {
   "cell_type": "code",
   "execution_count": 12,
   "id": "df360d7d",
   "metadata": {},
   "outputs": [
    {
     "name": "stdout",
     "output_type": "stream",
     "text": [
      "AzbycX\n"
     ]
    }
   ],
   "source": [
    "s1 = \"Abc\"  \n",
    "s2 = \"Xyz\"                  \n",
    "\n",
    "x = len(s1)\n",
    "y = len(s2)\n",
    "\n",
    "z = x if x > y else y\n",
    "result = ''\n",
    "\n",
    "s2 = s2[:: -1]\n",
    "\n",
    "for i in range(z):\n",
    "    if i < x:\n",
    "        result = result + s1[i]\n",
    "    if i < y:\n",
    "        result = result + s2[i]\n",
    "\n",
    "print(result)"
   ]
  },
  {
   "cell_type": "code",
   "execution_count": 14,
   "id": "ea954e5c",
   "metadata": {},
   "outputs": [
    {
     "name": "stdout",
     "output_type": "stream",
     "text": [
      "Jon is developer musician\n"
     ]
    }
   ],
   "source": [
    "str1 = \"/*Jon is @developer &musician\"\n",
    "a = ['/','*', '@', '&']\n",
    "for i in a:\n",
    "    if i in str1:\n",
    "        str1 = str1.replace(str(i), '')\n",
    "        \n",
    "print(str1)"
   ]
  },
  {
   "cell_type": "code",
   "execution_count": 26,
   "id": "a5e660b2",
   "metadata": {},
   "outputs": [
    {
     "name": "stdout",
     "output_type": "stream",
     "text": [
      "[47, 69, 76, 97]\n"
     ]
    }
   ],
   "source": [
    "rollNumber = [47, 64, 69, 37, 76, 83, 95, 97]\n",
    "sampleDict ={'Jhon':47, 'Emma':69, 'Kelly':76, 'Jason':97}\n",
    "x = []\n",
    "\n",
    "for i in rollNumber:\n",
    "    if i in sampleDict.values():\n",
    "        x.append(i)\n",
    "        \n",
    "print(x)      "
   ]
  },
  {
   "cell_type": "code",
   "execution_count": 16,
   "id": "2371f1ba",
   "metadata": {},
   "outputs": [
    {
     "name": "stdout",
     "output_type": "stream",
     "text": [
      "['Mike', 'Emma', 'Kelly', 'Brad']\n"
     ]
    }
   ],
   "source": [
    "list1 = [\"Mike\", \"\", \"Emma\", \"Kelly\", \"\", \"Brad\"]\n",
    "\n",
    "for i in list1:\n",
    "    if i == \"\":\n",
    "        list1.remove(\"\")\n",
    "\n",
    "print(list1)"
   ]
  },
  {
   "cell_type": "code",
   "execution_count": 17,
   "id": "b9159b1a",
   "metadata": {},
   "outputs": [
    {
     "name": "stdout",
     "output_type": "stream",
     "text": [
      "[24, 35, 9, 56, 12]\n",
      "[3, 2, 1]\n"
     ]
    }
   ],
   "source": [
    "def swap(list):\n",
    "    list[0], list[-1] = list[-1], list[0]\n",
    "    return list\n",
    "\n",
    "y = [12, 35, 9, 56, 24]\n",
    "x = swap(y)\n",
    "\n",
    "a = [1, 2, 3]\n",
    "b = swap(a)\n",
    "\n",
    "print(x)\n",
    "print(b)"
   ]
  },
  {
   "cell_type": "code",
   "execution_count": 18,
   "id": "23b952c4",
   "metadata": {},
   "outputs": [
    {
     "name": "stdout",
     "output_type": "stream",
     "text": [
      "[19, 65, 23, 90]\n",
      "[1, 5, 3, 4, 2]\n"
     ]
    }
   ],
   "source": [
    "def swap(num, pos1, pos2):\n",
    "    num[pos1], num[pos2] = num[pos2], num[pos1]\n",
    "    return num\n",
    "\n",
    "num = [23, 65, 19, 90]\n",
    "pos1 = 0\n",
    "pos2 = 2\n",
    "num1 = swap(num, pos1, pos2)\n",
    "print(num1)\n",
    "\n",
    "num = [1, 2, 3, 4, 5] \n",
    "pos1 = 1\n",
    "pos2 = 4\n",
    "num2 = swap(num, pos1, pos2)\n",
    "print(num2)\n"
   ]
  },
  {
   "cell_type": "code",
   "execution_count": 19,
   "id": "add218b6",
   "metadata": {},
   "outputs": [
    {
     "name": "stdout",
     "output_type": "stream",
     "text": [
      "(46, 5.75)\n",
      "(286, 35.75)\n"
     ]
    }
   ],
   "source": [
    "def cal_sum_and_average(numbers):\n",
    "        sum_num = sum(numbers)\n",
    "        average = sum_num / len(numbers)\n",
    "        return sum_num, average\n",
    " \n",
    "Input = [4, 5, 1, 2, 9, 7, 10, 8]\n",
    "x = cal_sum_and_average(Input)\n",
    "\n",
    "INPUT = [15, 9, 55, 41, 35, 20, 62, 49]\n",
    "z = cal_sum_and_average(INPUT)\n",
    "\n",
    "print(x)\n",
    "print(z)"
   ]
  },
  {
   "cell_type": "code",
   "execution_count": 20,
   "id": "33033a85",
   "metadata": {},
   "outputs": [
    {
     "name": "stdout",
     "output_type": "stream",
     "text": [
      "['This', 'is', 'python', 'language']\n",
      "['am']\n"
     ]
    }
   ],
   "source": [
    "def even_len(string):\n",
    "    even_word = []\n",
    "    s = string.split()\n",
    "    for i in s:\n",
    "        if len(i) % 2 == 0:\n",
    "            even_word.append(i)\n",
    "    return even_word\n",
    "    \n",
    "string1 = \"This is a python language\"\n",
    "string2 = \"i am laxmi\"\n",
    "\n",
    "a = even_len(string1)\n",
    "b = even_len(string2)\n",
    "\n",
    "print(a)\n",
    "print(b)"
   ]
  },
  {
   "cell_type": "code",
   "execution_count": 21,
   "id": "bb311c22",
   "metadata": {},
   "outputs": [
    {
     "name": "stdout",
     "output_type": "stream",
     "text": [
      "['HellO', 'WorlD']\n",
      "['WelcomE', 'TO', 'GeeksforgeekS']\n"
     ]
    }
   ],
   "source": [
    "def cap_first_and_last(string):\n",
    "    newlist = []  \n",
    "    s = string.split()\n",
    "    for i in s:\n",
    "        if len(i) > 1:\n",
    "            cap_word = i[0].upper() + i[1:-1] + i[-1].upper()\n",
    "            newlist.append(cap_word)\n",
    "            \n",
    "        else:\n",
    "            newlist.append(i.upper())\n",
    "    return newlist\n",
    "            \n",
    "Input_1 = \"hello world\"\n",
    "a = cap_first_and_last(Input_1)\n",
    "\n",
    "Input_2 = \"welcome to geeksforgeeks\"\n",
    "b = cap_first_and_last(Input_2)\n",
    "\n",
    "print(a)\n",
    "print(b)"
   ]
  },
  {
   "cell_type": "code",
   "execution_count": 22,
   "id": "098c65ac",
   "metadata": {},
   "outputs": [
    {
     "name": "stdout",
     "output_type": "stream",
     "text": [
      "ABC\n",
      "ACB\n",
      "BAC\n",
      "BCA\n",
      "CAB\n",
      "CBA\n"
     ]
    }
   ],
   "source": [
    "from itertools import permutations\n",
    "\n",
    "def permute(string):\n",
    "    return list(permutations(string))\n",
    "\n",
    "string = 'ABC'\n",
    "permutations = permute(string)\n",
    "\n",
    "for permutation in permutations:\n",
    "    print(''.join(permutation))"
   ]
  },
  {
   "cell_type": "code",
   "execution_count": 23,
   "id": "1fdf45af",
   "metadata": {},
   "outputs": [
    {
     "name": "stdout",
     "output_type": "stream",
     "text": [
      "['GFG', 'Bst']\n",
      "['GFG', 'Bst', 'f', 'r', 'g', '', 'ks']\n"
     ]
    }
   ],
   "source": [
    "def split_vowels(string):\n",
    "    newlist = [] \n",
    "    vowels = \"AEIOUaeiou\"\n",
    "    \n",
    "    start = 0\n",
    "    \n",
    "    for i in range(len(string)):\n",
    "        if string[i] in vowels:\n",
    "            newlist.append(string[start:i])\n",
    "            start = i + 1\n",
    "    newlist.append(string[start:])\n",
    "    return newlist\n",
    "\n",
    "test_str1 = \"GFGaBst\"\n",
    "a = split_vowels(test_str1)\n",
    "\n",
    "test_str2 = \"GFGaBstuforigeeks\"\n",
    "b = split_vowels(test_str2)\n",
    "\n",
    "print(a)\n",
    "print(b)"
   ]
  },
  {
   "cell_type": "code",
   "execution_count": 24,
   "id": "54fc55ba",
   "metadata": {},
   "outputs": [
    {
     "name": "stdout",
     "output_type": "stream",
     "text": [
      "8\n",
      "25\n"
     ]
    }
   ],
   "source": [
    "def power(N, P):\n",
    "    if P == 0:\n",
    "        return 1\n",
    "    else:\n",
    "        return N * power(N, P - 1)\n",
    "\n",
    "res = power(2, 3)\n",
    "print(res)\n",
    "\n",
    "res = power(5, 2)\n",
    "print(res)"
   ]
  },
  {
   "cell_type": "code",
   "execution_count": null,
   "id": "925f84d0",
   "metadata": {},
   "outputs": [],
   "source": []
  }
 ],
 "metadata": {
  "kernelspec": {
   "display_name": "Python 3 (ipykernel)",
   "language": "python",
   "name": "python3"
  },
  "language_info": {
   "codemirror_mode": {
    "name": "ipython",
    "version": 3
   },
   "file_extension": ".py",
   "mimetype": "text/x-python",
   "name": "python",
   "nbconvert_exporter": "python",
   "pygments_lexer": "ipython3",
   "version": "3.9.13"
  }
 },
 "nbformat": 4,
 "nbformat_minor": 5
}
